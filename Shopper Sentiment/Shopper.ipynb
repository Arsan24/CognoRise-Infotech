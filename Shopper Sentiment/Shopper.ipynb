{
 "cells": [
  {
   "cell_type": "code",
   "execution_count": 1,
   "metadata": {},
   "outputs": [],
   "source": [
    "# Import library\n",
    "import pandas as pd\n",
    "import numpy as np\n",
    "from sklearn.feature_extraction.text import TfidfVectorizer\n",
    "from sklearn.preprocessing import StandardScaler\n",
    "from sklearn.cluster import KMeans\n",
    "from sklearn.metrics import silhouette_score\n",
    "import matplotlib.pyplot as plt\n",
    "import seaborn as sns\n",
    "import re\n",
    "import nltk\n",
    "from nltk.tokenize import word_tokenize\n",
    "from nltk.corpus import stopwords\n",
    "from nltk.stem import WordNetLemmatizer\n"
   ]
  },
  {
   "cell_type": "code",
   "execution_count": 2,
   "metadata": {},
   "outputs": [
    {
     "name": "stderr",
     "output_type": "stream",
     "text": [
      "[nltk_data] Downloading package punkt to\n",
      "[nltk_data]     C:\\Users\\ADVAN\\AppData\\Roaming\\nltk_data...\n",
      "[nltk_data]   Package punkt is already up-to-date!\n",
      "[nltk_data] Downloading package stopwords to\n",
      "[nltk_data]     C:\\Users\\ADVAN\\AppData\\Roaming\\nltk_data...\n",
      "[nltk_data]   Package stopwords is already up-to-date!\n",
      "[nltk_data] Downloading package wordnet to\n",
      "[nltk_data]     C:\\Users\\ADVAN\\AppData\\Roaming\\nltk_data...\n",
      "[nltk_data]   Package wordnet is already up-to-date!\n"
     ]
    },
    {
     "data": {
      "text/plain": [
       "True"
      ]
     },
     "execution_count": 2,
     "metadata": {},
     "output_type": "execute_result"
    }
   ],
   "source": [
    "# Download required NLTK resources (you can skip this if already installed)\n",
    "nltk.download('punkt')\n",
    "nltk.download('stopwords')\n",
    "nltk.download('wordnet')"
   ]
  },
  {
   "cell_type": "code",
   "execution_count": 3,
   "metadata": {},
   "outputs": [
    {
     "data": {
      "text/html": [
       "<div>\n",
       "<style scoped>\n",
       "    .dataframe tbody tr th:only-of-type {\n",
       "        vertical-align: middle;\n",
       "    }\n",
       "\n",
       "    .dataframe tbody tr th {\n",
       "        vertical-align: top;\n",
       "    }\n",
       "\n",
       "    .dataframe thead th {\n",
       "        text-align: right;\n",
       "    }\n",
       "</style>\n",
       "<table border=\"1\" class=\"dataframe\">\n",
       "  <thead>\n",
       "    <tr style=\"text-align: right;\">\n",
       "      <th></th>\n",
       "      <th>reviewer_id</th>\n",
       "      <th>store_location</th>\n",
       "      <th>latitude</th>\n",
       "      <th>longitude</th>\n",
       "      <th>date</th>\n",
       "      <th>month</th>\n",
       "      <th>year</th>\n",
       "      <th>title</th>\n",
       "      <th>review</th>\n",
       "      <th>review-label</th>\n",
       "    </tr>\n",
       "  </thead>\n",
       "  <tbody>\n",
       "    <tr>\n",
       "      <th>0</th>\n",
       "      <td>0.0</td>\n",
       "      <td>US</td>\n",
       "      <td>37.090240</td>\n",
       "      <td>-95.712891</td>\n",
       "      <td>2023</td>\n",
       "      <td>6</td>\n",
       "      <td>2015 00:00:00</td>\n",
       "      <td>Great help with lost order</td>\n",
       "      <td>I had an order that was lost in transit. When ...</td>\n",
       "      <td>5</td>\n",
       "    </tr>\n",
       "    <tr>\n",
       "      <th>1</th>\n",
       "      <td>1.0</td>\n",
       "      <td>US</td>\n",
       "      <td>37.090240</td>\n",
       "      <td>-95.712891</td>\n",
       "      <td>2023</td>\n",
       "      <td>6</td>\n",
       "      <td>2024 00:00:00</td>\n",
       "      <td>I ordered the wrong size tee and hadï¿½ï¿½ï¿½</td>\n",
       "      <td>I ordered the wrong size tee and had difficult...</td>\n",
       "      <td>5</td>\n",
       "    </tr>\n",
       "    <tr>\n",
       "      <th>2</th>\n",
       "      <td>2.0</td>\n",
       "      <td>US</td>\n",
       "      <td>37.090240</td>\n",
       "      <td>-95.712891</td>\n",
       "      <td>2023</td>\n",
       "      <td>6</td>\n",
       "      <td>2017 00:00:00</td>\n",
       "      <td>These guys offer the best customerï¿½ï¿½ï¿½</td>\n",
       "      <td>These guys offer the best customer service in ...</td>\n",
       "      <td>5</td>\n",
       "    </tr>\n",
       "    <tr>\n",
       "      <th>3</th>\n",
       "      <td>3.0</td>\n",
       "      <td>US</td>\n",
       "      <td>37.090240</td>\n",
       "      <td>-95.712891</td>\n",
       "      <td>2023</td>\n",
       "      <td>6</td>\n",
       "      <td>2024 00:00:00</td>\n",
       "      <td>Good Stuff</td>\n",
       "      <td>Looked for an obscure phrase on a shirt. Teepu...</td>\n",
       "      <td>5</td>\n",
       "    </tr>\n",
       "    <tr>\n",
       "      <th>4</th>\n",
       "      <td>4.0</td>\n",
       "      <td>CA</td>\n",
       "      <td>56.130366</td>\n",
       "      <td>-106.346771</td>\n",
       "      <td>2023</td>\n",
       "      <td>6</td>\n",
       "      <td>2023 00:00:00</td>\n",
       "      <td>My order arrived in a good timelyï¿½ï¿½ï¿½</td>\n",
       "      <td>My order arrived in a good timely fashion &amp; th...</td>\n",
       "      <td>4</td>\n",
       "    </tr>\n",
       "  </tbody>\n",
       "</table>\n",
       "</div>"
      ],
      "text/plain": [
       "   reviewer_id store_location   latitude   longitude  date  month  \\\n",
       "0          0.0             US  37.090240  -95.712891  2023      6   \n",
       "1          1.0             US  37.090240  -95.712891  2023      6   \n",
       "2          2.0             US  37.090240  -95.712891  2023      6   \n",
       "3          3.0             US  37.090240  -95.712891  2023      6   \n",
       "4          4.0             CA  56.130366 -106.346771  2023      6   \n",
       "\n",
       "            year                                          title  \\\n",
       "0  2015 00:00:00                     Great help with lost order   \n",
       "1  2024 00:00:00  I ordered the wrong size tee and hadï¿½ï¿½ï¿½   \n",
       "2  2017 00:00:00    These guys offer the best customerï¿½ï¿½ï¿½   \n",
       "3  2024 00:00:00                                     Good Stuff   \n",
       "4  2023 00:00:00     My order arrived in a good timelyï¿½ï¿½ï¿½   \n",
       "\n",
       "                                              review  review-label  \n",
       "0  I had an order that was lost in transit. When ...             5  \n",
       "1  I ordered the wrong size tee and had difficult...             5  \n",
       "2  These guys offer the best customer service in ...             5  \n",
       "3  Looked for an obscure phrase on a shirt. Teepu...             5  \n",
       "4  My order arrived in a good timely fashion & th...             4  "
      ]
     },
     "execution_count": 3,
     "metadata": {},
     "output_type": "execute_result"
    }
   ],
   "source": [
    "# Read dataset  \n",
    "data = pd.read_csv('../Dataset/ShopperSentiments.csv',encoding='ISO-8859-1') \n",
    "data.head() "
   ]
  },
  {
   "cell_type": "markdown",
   "metadata": {},
   "source": [
    "# Data Cleaning"
   ]
  },
  {
   "cell_type": "code",
   "execution_count": 4,
   "metadata": {},
   "outputs": [
    {
     "name": "stdout",
     "output_type": "stream",
     "text": [
      "<class 'pandas.core.frame.DataFrame'>\n",
      "RangeIndex: 278100 entries, 0 to 278099\n",
      "Data columns (total 10 columns):\n",
      " #   Column          Non-Null Count   Dtype  \n",
      "---  ------          --------------   -----  \n",
      " 0   reviewer_id     278099 non-null  float64\n",
      " 1   store_location  278100 non-null  object \n",
      " 2   latitude        278100 non-null  float64\n",
      " 3   longitude       278100 non-null  float64\n",
      " 4   date            278100 non-null  int64  \n",
      " 5   month           278100 non-null  int64  \n",
      " 6   year            278100 non-null  object \n",
      " 7   title           278088 non-null  object \n",
      " 8   review          247597 non-null  object \n",
      " 9   review-label    278100 non-null  int64  \n",
      "dtypes: float64(3), int64(3), object(4)\n",
      "memory usage: 21.2+ MB\n"
     ]
    }
   ],
   "source": [
    "data.info()"
   ]
  },
  {
   "cell_type": "code",
   "execution_count": 5,
   "metadata": {},
   "outputs": [
    {
     "data": {
      "text/plain": [
       "reviewer_id           1\n",
       "store_location        0\n",
       "latitude              0\n",
       "longitude             0\n",
       "date                  0\n",
       "month                 0\n",
       "year                  0\n",
       "title                12\n",
       "review            30503\n",
       "review-label          0\n",
       "dtype: int64"
      ]
     },
     "execution_count": 5,
     "metadata": {},
     "output_type": "execute_result"
    }
   ],
   "source": [
    "data.isna().sum()"
   ]
  },
  {
   "cell_type": "code",
   "execution_count": 6,
   "metadata": {},
   "outputs": [
    {
     "data": {
      "text/html": [
       "<div>\n",
       "<style scoped>\n",
       "    .dataframe tbody tr th:only-of-type {\n",
       "        vertical-align: middle;\n",
       "    }\n",
       "\n",
       "    .dataframe tbody tr th {\n",
       "        vertical-align: top;\n",
       "    }\n",
       "\n",
       "    .dataframe thead th {\n",
       "        text-align: right;\n",
       "    }\n",
       "</style>\n",
       "<table border=\"1\" class=\"dataframe\">\n",
       "  <thead>\n",
       "    <tr style=\"text-align: right;\">\n",
       "      <th></th>\n",
       "      <th>reviewer_id</th>\n",
       "      <th>store_location</th>\n",
       "      <th>latitude</th>\n",
       "      <th>longitude</th>\n",
       "      <th>date</th>\n",
       "      <th>month</th>\n",
       "      <th>year</th>\n",
       "      <th>title</th>\n",
       "      <th>review</th>\n",
       "      <th>review-label</th>\n",
       "    </tr>\n",
       "  </thead>\n",
       "  <tbody>\n",
       "    <tr>\n",
       "      <th>121</th>\n",
       "      <td>121.0</td>\n",
       "      <td>US</td>\n",
       "      <td>37.090240</td>\n",
       "      <td>-95.712891</td>\n",
       "      <td>2023</td>\n",
       "      <td>6</td>\n",
       "      <td>2024 00:00:00</td>\n",
       "      <td>Awesome t-shirt love it vintage ï¿½ï¿½ï¿½ï¿½</td>\n",
       "      <td>NaN</td>\n",
       "      <td>5</td>\n",
       "    </tr>\n",
       "    <tr>\n",
       "      <th>128</th>\n",
       "      <td>128.0</td>\n",
       "      <td>US</td>\n",
       "      <td>37.090240</td>\n",
       "      <td>-95.712891</td>\n",
       "      <td>2023</td>\n",
       "      <td>6</td>\n",
       "      <td>2018 00:00:00</td>\n",
       "      <td>Nice tee quick delivery -</td>\n",
       "      <td>NaN</td>\n",
       "      <td>5</td>\n",
       "    </tr>\n",
       "    <tr>\n",
       "      <th>130</th>\n",
       "      <td>130.0</td>\n",
       "      <td>US</td>\n",
       "      <td>37.090240</td>\n",
       "      <td>-95.712891</td>\n",
       "      <td>2023</td>\n",
       "      <td>6</td>\n",
       "      <td>2023 00:00:00</td>\n",
       "      <td>Big selections lots to choose from</td>\n",
       "      <td>NaN</td>\n",
       "      <td>5</td>\n",
       "    </tr>\n",
       "    <tr>\n",
       "      <th>142</th>\n",
       "      <td>142.0</td>\n",
       "      <td>US</td>\n",
       "      <td>37.090240</td>\n",
       "      <td>-95.712891</td>\n",
       "      <td>2023</td>\n",
       "      <td>6</td>\n",
       "      <td>2024 00:00:00</td>\n",
       "      <td>Great company</td>\n",
       "      <td>NaN</td>\n",
       "      <td>5</td>\n",
       "    </tr>\n",
       "    <tr>\n",
       "      <th>146</th>\n",
       "      <td>146.0</td>\n",
       "      <td>CA</td>\n",
       "      <td>56.130366</td>\n",
       "      <td>-106.346771</td>\n",
       "      <td>2023</td>\n",
       "      <td>6</td>\n",
       "      <td>2024 00:00:00</td>\n",
       "      <td>Great as always!</td>\n",
       "      <td>NaN</td>\n",
       "      <td>5</td>\n",
       "    </tr>\n",
       "  </tbody>\n",
       "</table>\n",
       "</div>"
      ],
      "text/plain": [
       "     reviewer_id store_location   latitude   longitude  date  month  \\\n",
       "121        121.0             US  37.090240  -95.712891  2023      6   \n",
       "128        128.0             US  37.090240  -95.712891  2023      6   \n",
       "130        130.0             US  37.090240  -95.712891  2023      6   \n",
       "142        142.0             US  37.090240  -95.712891  2023      6   \n",
       "146        146.0             CA  56.130366 -106.346771  2023      6   \n",
       "\n",
       "              year                                         title review  \\\n",
       "121  2024 00:00:00  Awesome t-shirt love it vintage ï¿½ï¿½ï¿½ï¿½    NaN   \n",
       "128  2018 00:00:00                     Nice tee quick delivery -    NaN   \n",
       "130  2023 00:00:00            Big selections lots to choose from    NaN   \n",
       "142  2024 00:00:00                                 Great company    NaN   \n",
       "146  2024 00:00:00                              Great as always!    NaN   \n",
       "\n",
       "     review-label  \n",
       "121             5  \n",
       "128             5  \n",
       "130             5  \n",
       "142             5  \n",
       "146             5  "
      ]
     },
     "execution_count": 6,
     "metadata": {},
     "output_type": "execute_result"
    }
   ],
   "source": [
    "# Assuming your DataFrame is named 'df'\n",
    "null_rows = data[data.isnull().any(axis=1)]\n",
    "null_rows.head()"
   ]
  },
  {
   "cell_type": "code",
   "execution_count": 7,
   "metadata": {},
   "outputs": [
    {
     "data": {
      "text/plain": [
       "0"
      ]
     },
     "execution_count": 7,
     "metadata": {},
     "output_type": "execute_result"
    }
   ],
   "source": [
    "data.duplicated().sum()"
   ]
  },
  {
   "cell_type": "markdown",
   "metadata": {},
   "source": [
    "# CLeaning data"
   ]
  },
  {
   "cell_type": "code",
   "execution_count": 8,
   "metadata": {},
   "outputs": [
    {
     "name": "stdout",
     "output_type": "stream",
     "text": [
      "<class 'pandas.core.frame.DataFrame'>\n",
      "Index: 247587 entries, 0 to 278098\n",
      "Data columns (total 10 columns):\n",
      " #   Column          Non-Null Count   Dtype  \n",
      "---  ------          --------------   -----  \n",
      " 0   reviewer_id     247587 non-null  float64\n",
      " 1   store_location  247587 non-null  object \n",
      " 2   latitude        247587 non-null  float64\n",
      " 3   longitude       247587 non-null  float64\n",
      " 4   date            247587 non-null  int64  \n",
      " 5   month           247587 non-null  int64  \n",
      " 6   year            247587 non-null  object \n",
      " 7   title           247587 non-null  object \n",
      " 8   review          247587 non-null  object \n",
      " 9   review-label    247587 non-null  int64  \n",
      "dtypes: float64(3), int64(3), object(4)\n",
      "memory usage: 20.8+ MB\n"
     ]
    }
   ],
   "source": [
    "data.dropna(inplace=True)\n",
    "data.info()"
   ]
  },
  {
   "cell_type": "code",
   "execution_count": 9,
   "metadata": {},
   "outputs": [],
   "source": [
    "# Initialize lemmatizer and stopwords\n",
    "lemmatizer = WordNetLemmatizer()\n",
    "stop_words = set(stopwords.words('english'))"
   ]
  },
  {
   "cell_type": "code",
   "execution_count": 10,
   "metadata": {},
   "outputs": [],
   "source": [
    "def clean_and_tokenize(text):\n",
    "    # Remove non-alphabetical characters (remove numbers, punctuation, etc.)\n",
    "    text_cleaned = re.sub(r'[^a-zA-Z\\s]', '', text.lower())\n",
    "\n",
    "    # Tokenize the text into words\n",
    "    tokens = word_tokenize(text_cleaned)\n",
    "\n",
    "    # Remove stopwords\n",
    "    tokens_no_stopwords = [word for word in tokens if word not in stop_words]\n",
    "\n",
    "    # Lemmatize words (optional but often useful)\n",
    "    tokens_lemmatized = [lemmatizer.lemmatize(word) for word in tokens_no_stopwords]\n",
    "\n",
    "    # Return the tokens as a string (for TF-IDF processing)\n",
    "    return \" \".join(tokens_lemmatized)  # Join tokens into a single string"
   ]
  },
  {
   "cell_type": "code",
   "execution_count": 11,
   "metadata": {},
   "outputs": [
    {
     "name": "stdout",
     "output_type": "stream",
     "text": [
      "                                       combined_text  \\\n",
      "0  Great help with lost order I had an order that...   \n",
      "1  I ordered the wrong size tee and hadï¿½ï¿½ï¿½ ...   \n",
      "2  These guys offer the best customerï¿½ï¿½ï¿½ Th...   \n",
      "3  Good Stuff Looked for an obscure phrase on a s...   \n",
      "4  My order arrived in a good timelyï¿½ï¿½ï¿½ My ...   \n",
      "\n",
      "                                      cleaned_tokens  \n",
      "0  great help lost order order lost transit calle...  \n",
      "1  ordered wrong size tee ordered wrong size tee ...  \n",
      "2  guy offer best customer guy offer best custome...  \n",
      "3  good stuff looked obscure phrase shirt teepubl...  \n",
      "4  order arrived good timely order arrived good t...  \n"
     ]
    }
   ],
   "source": [
    "# Combine 'title' and 'review' into one text field\n",
    "data['combined_text'] = data['title'] + \" \" + data['review']\n",
    "\n",
    "# Apply the clean_and_tokenize function to 'combined_text'\n",
    "data['cleaned_tokens'] = data['combined_text'].apply(clean_and_tokenize)\n",
    "\n",
    "# Show the DataFrame with the new 'cleaned_tokens' column\n",
    "print(data[['combined_text', 'cleaned_tokens']].head())\n"
   ]
  },
  {
   "cell_type": "code",
   "execution_count": 12,
   "metadata": {},
   "outputs": [
    {
     "name": "stdout",
     "output_type": "stream",
     "text": [
      "TF-IDF Shape: (247587, 2000)\n"
     ]
    }
   ],
   "source": [
    "# Initialize TF-IDF Vectorizer\n",
    "tfidf = TfidfVectorizer(max_features=2000, stop_words='english')  # Adjust max_features if needed\n",
    "\n",
    "# Apply TF-IDF on the cleaned text data\n",
    "text_features = tfidf.fit_transform(data['cleaned_tokens']).toarray()\n",
    "\n",
    "# Check the shape of the text feature matrix\n",
    "print(\"TF-IDF Shape:\", text_features.shape)"
   ]
  },
  {
   "cell_type": "code",
   "execution_count": 13,
   "metadata": {},
   "outputs": [
    {
     "name": "stdout",
     "output_type": "stream",
     "text": [
      "Combined Features Shape: (247587, 2001)\n"
     ]
    }
   ],
   "source": [
    "# Select relevant numerical features\n",
    "numerical_features = data[['review-label']]  # Add more features like 'latitude', 'longitude', etc.\n",
    "\n",
    "# Scale the numerical features\n",
    "scaler = StandardScaler()\n",
    "numerical_features_scaled = scaler.fit_transform(numerical_features)\n",
    "\n",
    "# Combine TF-IDF and numerical features\n",
    "combined_features = np.hstack((text_features, numerical_features_scaled))\n",
    "\n",
    "# Check the shape of the combined feature matrix\n",
    "print(\"Combined Features Shape:\", combined_features.shape)\n"
   ]
  },
  {
   "cell_type": "code",
   "execution_count": 14,
   "metadata": {},
   "outputs": [
    {
     "data": {
      "image/png": "[encoded data removed]",
      "text/plain": [
       "<Figure size 800x500 with 1 Axes>"
      ]
     },
     "metadata": {},
     "output_type": "display_data"
    }
   ],
   "source": [
    "# Define range of k\n",
    "k_range = range(2, 11)\n",
    "inertia_values = []\n",
    "\n",
    "# Fit KMeans for each k and record inertia\n",
    "for k in k_range:\n",
    "    kmeans = KMeans(n_clusters=k, random_state=42)\n",
    "    kmeans.fit(combined_features)\n",
    "    inertia_values.append(kmeans.inertia_)\n",
    "\n",
    "# Plot the Elbow Curve\n",
    "plt.figure(figsize=(8, 5))\n",
    "plt.plot(k_range, inertia_values, marker='o')\n",
    "plt.title('Elbow Method for Optimal K')\n",
    "plt.xlabel('Number of Clusters (k)')\n",
    "plt.ylabel('Inertia')\n",
    "plt.show()\n"
   ]
  },
  {
   "cell_type": "code",
   "execution_count": 15,
   "metadata": {},
   "outputs": [],
   "source": [
    "# Perform KMeans with chosen k\n",
    "optimal_k = 3  # Replace with the chosen number of clusters\n",
    "kmeans = KMeans(n_clusters=optimal_k, random_state=42)\n",
    "cluster_labels = kmeans.fit_predict(combined_features)\n",
    "\n",
    "# Add cluster labels to the original dataset\n",
    "data['cluster'] = cluster_labels\n"
   ]
  },
  {
   "cell_type": "code",
   "execution_count": 16,
   "metadata": {},
   "outputs": [
    {
     "data": {
      "text/plain": [
       "cluster\n",
       "2    181426\n",
       "0     38686\n",
       "1     27475\n",
       "Name: count, dtype: int64"
      ]
     },
     "execution_count": 16,
     "metadata": {},
     "output_type": "execute_result"
    }
   ],
   "source": [
    "data['cluster'].value_counts()"
   ]
  },
  {
   "cell_type": "code",
   "execution_count": 17,
   "metadata": {},
   "outputs": [
    {
     "name": "stdout",
     "output_type": "stream",
     "text": [
      "Silhouette Score: 0.245\n"
     ]
    }
   ],
   "source": [
    "silhouette_avg = silhouette_score(combined_features, cluster_labels)\n",
    "print(f'Silhouette Score: {silhouette_avg:.3f}')\n"
   ]
  },
  {
   "cell_type": "code",
   "execution_count": 19,
   "metadata": {},
   "outputs": [
    {
     "name": "stdout",
     "output_type": "stream",
     "text": [
      "cluster\n",
      "2    181426\n",
      "0     38686\n",
      "1     27475\n",
      "Name: count, dtype: int64\n"
     ]
    },
    {
     "data": {
      "image/png": "[encoded data removed]",
      "text/plain": [
       "<Figure size 640x480 with 1 Axes>"
      ]
     },
     "metadata": {},
     "output_type": "display_data"
    },
    {
     "name": "stdout",
     "output_type": "stream",
     "text": [
      "\n",
      "Cluster 0:\n",
      "4     My order arrived in a good timelyï¿½ï¿½ï¿½ My ...\n",
      "6     Recent review I have messaged sellers and get ...\n",
      "10    I love the shirts I love the shirts. I wanted ...\n",
      "13    Customer service was first rate but theï¿½ï¿½ï...\n",
      "15    I loved the product but they run small ! I lov...\n",
      "Name: combined_text, dtype: object\n",
      "\n",
      "Cluster 1:\n",
      "23     I did not receive my purchase and whenï¿½ï¿½ï¿...\n",
      "47     The tee that I originally ordered wasï¿½ï¿½ï¿½...\n",
      "60     Subpar communication after a horribleï¿½ï¿½ï¿½...\n",
      "73     Arrogance or Ignorance? - You're Opting in for...\n",
      "125    2 out of the 4 T Shirts I received wereï¿½ï¿½ï...\n",
      "Name: combined_text, dtype: object\n",
      "\n",
      "Cluster 2:\n",
      "0    Great help with lost order I had an order that...\n",
      "1    I ordered the wrong size tee and hadï¿½ï¿½ï¿½ ...\n",
      "2    These guys offer the best customerï¿½ï¿½ï¿½ Th...\n",
      "3    Good Stuff Looked for an obscure phrase on a s...\n",
      "5    Always top notch Always top notch customer ser...\n",
      "Name: combined_text, dtype: object\n"
     ]
    }
   ],
   "source": [
    "# Check the distribution of data in each cluster\n",
    "print(data['cluster'].value_counts())\n",
    "\n",
    "# Visualize cluster sizes\n",
    "sns.countplot(x='cluster', data=data)\n",
    "plt.title('Cluster Distribution')\n",
    "plt.xlabel('Cluster')\n",
    "plt.ylabel('Number of Reviews')\n",
    "plt.show()\n",
    "\n",
    "# Analyze text within each cluster\n",
    "for cluster in range(optimal_k):\n",
    "    print(f\"\\nCluster {cluster}:\")\n",
    "    print(data[data['cluster'] == cluster]['combined_text'].head(5))  # Display top 5 reviews in each cluster\n"
   ]
  },
  {
   "cell_type": "code",
   "execution_count": null,
   "metadata": {},
   "outputs": [],
   "source": []
  }
 ],
 "metadata": {
  "kernelspec": {
   "display_name": "base",
   "language": "python",
   "name": "python3"
  },
  "language_info": {
   "codemirror_mode": {
    "name": "ipython",
    "version": 3
   },
   "file_extension": ".py",
   "mimetype": "text/x-python",
   "name": "python",
   "nbconvert_exporter": "python",
   "pygments_lexer": "ipython3",
   "version": "3.12.4"
  }
 },
 "nbformat": 4,
 "nbformat_minor": 2
}
